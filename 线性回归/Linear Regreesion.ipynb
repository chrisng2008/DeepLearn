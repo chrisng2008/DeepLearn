{
 "cells": [
  {
   "cell_type": "code",
   "execution_count": 1,
   "id": "7b21ef4d",
   "metadata": {},
   "outputs": [],
   "source": [
    "import random\n",
    "import matplotlib.pyplot as plt\n",
    "%matplotlib inline\n",
    "import torch\n",
    "import numpy as np"
   ]
  },
  {
   "cell_type": "markdown",
   "id": "a3486845",
   "metadata": {},
   "source": [
    "## 创建数据集\n",
    "使用线性模型参数w = $[2, -3.4]^T$、b=4.2"
   ]
  },
  {
   "cell_type": "code",
   "execution_count": 22,
   "id": "e52c3c26",
   "metadata": {},
   "outputs": [],
   "source": [
    "def synthetic_data(w, b, num_examle):\n",
    "    \"\"\"\n",
    "    生成y=wx+b+噪声\n",
    "    \"\"\"\n",
    "    x = torch.normal(0, 1, (num_examle, len(w)))\n",
    "    y = torch.matmul(x, w) + b\n",
    "    y += torch.normal(0, 0.01, y.shape)    # 添加均值为0，方差为0.01的噪音\n",
    "    return x, y.reshape((-1, 1))"
   ]
  },
  {
   "cell_type": "code",
   "execution_count": 3,
   "id": "0c9a336a",
   "metadata": {},
   "outputs": [
    {
     "name": "stdout",
     "output_type": "stream",
     "text": [
      "features: tensor([-0.3079,  0.2358]) \n",
      " label: tensor([2.8433])\n"
     ]
    }
   ],
   "source": [
    "print('features:', features[0], '\\n label:', labels[0])"
   ]
  },
  {
   "cell_type": "code",
   "execution_count": 4,
   "id": "96e1bd59",
   "metadata": {},
   "outputs": [
    {
     "data": {
      "image/png": "[encoded data removed]",
      "text/plain": [
       "<Figure size 432x288 with 1 Axes>"
      ]
     },
     "metadata": {
      "needs_background": "light"
     },
     "output_type": "display_data"
    }
   ],
   "source": [
    "plt.scatter(features[:, 1].detach().numpy(), labels.detach().numpy(), 1);"
   ]
  },
  {
   "cell_type": "markdown",
   "id": "ef7e5efc",
   "metadata": {},
   "source": [
    "定义data_iter函数，该函数接收批量大小、特征矩阵和标签向量为作为输入，生成大小为batch_size的小批量"
   ]
  },
  {
   "cell_type": "code",
   "execution_count": 5,
   "id": "084d4636",
   "metadata": {},
   "outputs": [
    {
     "name": "stdout",
     "output_type": "stream",
     "text": [
      "tensor([[-0.5694,  0.2960],\n",
      "        [-0.9651,  0.8646],\n",
      "        [ 0.3479, -0.4598],\n",
      "        [-0.3394, -0.8874],\n",
      "        [-0.3768, -1.6230],\n",
      "        [-1.1260,  0.2332],\n",
      "        [-0.2235, -0.3810],\n",
      "        [ 0.2854,  0.0920],\n",
      "        [ 0.5588, -1.3355],\n",
      "        [-0.6614, -0.0296]]) \n",
      " tensor([[ 2.1212],\n",
      "        [-0.4610],\n",
      "        [ 6.3204],\n",
      "        [ 6.3328],\n",
      "        [ 8.5478],\n",
      "        [ 1.2226],\n",
      "        [ 4.9452],\n",
      "        [ 4.4722],\n",
      "        [ 9.5075],\n",
      "        [ 2.9795]])\n"
     ]
    }
   ],
   "source": [
    "def data_iter(batch_size, features, labels):\n",
    "    num_examples = len(features)\n",
    "    indices = list(range(num_examples)) # 生成小批量的index\n",
    "    random.shuffle(indices) # 将下标打乱，可用随机顺序来访问样本\n",
    "    for i in range(0, num_examples, batch_size):\n",
    "        batch_indices = torch.tensor(indices[i:min(i + batch_size, num_examples)])    # 防止超过索引\n",
    "        yield features[batch_indices], labels[batch_indices]\n",
    "\n",
    "batch_size = 10\n",
    "for X, y in data_iter(batch_size, features, labels):\n",
    "    print(X, '\\n', y)\n",
    "    break\n"
   ]
  },
  {
   "cell_type": "markdown",
   "id": "147c8137",
   "metadata": {},
   "source": [
    "定义初始化模型参数"
   ]
  },
  {
   "cell_type": "code",
   "execution_count": 6,
   "id": "aa4cd5f8",
   "metadata": {},
   "outputs": [],
   "source": [
    "w = torch.normal(0, 0.01, size=(2,1), requires_grad=True)\n",
    "b = torch.zeros(1, requires_grad=True)"
   ]
  },
  {
   "cell_type": "code",
   "execution_count": 7,
   "id": "e297635a",
   "metadata": {},
   "outputs": [],
   "source": [
    "def linreg(X, w, b):\n",
    "    return torch.matmul(X, w)+b"
   ]
  },
  {
   "cell_type": "code",
   "execution_count": 8,
   "id": "ebb7eb08",
   "metadata": {},
   "outputs": [],
   "source": [
    "# 定义损失函数\n",
    "def squared_loss(y_hat, y):\n",
    "    \"\"\"均方损失\"\"\"\n",
    "    return(y_hat - y.reshape(y_hat.shape))**2 / 2"
   ]
  },
  {
   "cell_type": "markdown",
   "id": "7aff81eb",
   "metadata": {},
   "source": [
    "定义优化算法"
   ]
  },
  {
   "cell_type": "code",
   "execution_count": 17,
   "id": "f5c9a12c",
   "metadata": {},
   "outputs": [],
   "source": [
    "def sgd(params, lr, batch_size):\n",
    "    \"\"\"小批量随机梯度下降\"\"\"\n",
    "    with torch.no_grad():   # 更新的时候并不需要计算梯度\n",
    "        for param in params:\n",
    "            param -= lr * param.grad / batch_size\n",
    "            param.grad.zero_()"
   ]
  },
  {
   "cell_type": "code",
   "execution_count": 21,
   "id": "12db1d61",
   "metadata": {},
   "outputs": [
    {
     "name": "stdout",
     "output_type": "stream",
     "text": [
      "epoch 1, loss 0.000048\n",
      "epoch 2, loss 0.000048\n",
      "epoch 3, loss 0.000048\n"
     ]
    }
   ],
   "source": [
    "from random import triangular\n",
    "\n",
    "\n",
    "lr = 0.001\n",
    "num_epochs = 3  # 对数据扫描3次\n",
    "net = linreg\n",
    "loss = squared_loss\n",
    "\n",
    "for epoch in range(num_epochs):\n",
    "    for X, y in data_iter(batch_size, features, labels):\n",
    "        l = loss(net(X, w, b), y)\n",
    "        # l的形状是(batch_size, 1), 不是一个标量\n",
    "        l.sum().backward()\n",
    "        sgd([w, b], lr, batch_size) # 使用参数的梯度更新参数\n",
    "    with torch.no_grad():\n",
    "        train_l = loss(net(features, w, b), labels)\n",
    "        print(f'epoch {epoch + 1}, loss {float(train_l.mean()):f}') "
   ]
  },
  {
   "cell_type": "code",
   "execution_count": null,
   "id": "89ca7130",
   "metadata": {},
   "outputs": [],
   "source": []
  },
  {
   "cell_type": "code",
   "execution_count": null,
   "id": "ef21b787",
   "metadata": {},
   "outputs": [],
   "source": []
  }
 ],
 "metadata": {
  "kernelspec": {
   "display_name": "Python 3.6.9 ('estimation')",
   "language": "python",
   "name": "python3"
  },
  "language_info": {
   "codemirror_mode": {
    "name": "ipython",
    "version": 3
   },
   "file_extension": ".py",
   "mimetype": "text/x-python",
   "name": "python",
   "nbconvert_exporter": "python",
   "pygments_lexer": "ipython3",
   "version": "3.6.9"
  },
  "vscode": {
   "interpreter": {
    "hash": "21a40cf5f61f7e6a0a900a64d018e11035f14ce401d30652c7133095a2a28185"
   }
  }
 },
 "nbformat": 4,
 "nbformat_minor": 5
}
